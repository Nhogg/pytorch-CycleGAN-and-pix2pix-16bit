{
 "cells": [
  {
   "cell_type": "code",
   "id": "initial_id",
   "metadata": {
    "collapsed": true,
    "ExecuteTime": {
     "end_time": "2025-06-24T16:28:36.165143Z",
     "start_time": "2025-06-24T16:28:36.153883Z"
    }
   },
   "source": [
    "from tkinter import Image\n",
    "\n",
    "import torch\n",
    "print(torch.cuda.is_available())"
   ],
   "outputs": [
    {
     "name": "stdout",
     "output_type": "stream",
     "text": [
      "False\n"
     ]
    }
   ],
   "execution_count": 2
  },
  {
   "metadata": {
    "ExecuteTime": {
     "end_time": "2025-06-24T19:24:40.947086Z",
     "start_time": "2025-06-24T19:24:40.587134Z"
    }
   },
   "cell_type": "code",
   "source": [
    "\n",
    "from PIL import Image\n",
    "\n",
    "img = r\"C:\\Users\\natha\\Documents\\GitHub\\pytorch-CycleGAN-and-pix2pix-16bit\\checkpoints\\mvScatter16b\\web\\images\\epoch002_fake_B.png\"\n",
    "import cv2\n",
    "import numpy as np\n",
    "\n",
    "img = cv2.imread(img, cv2.IMREAD_UNCHANGED)\n",
    "\n",
    "print(\"Max value:\", np.max(img))\n",
    "print(\"Dtype:\", img.dtype)\n",
    "\n",
    "if img.dtype == np.uint16:\n",
    "    print(\"Image is 16-bit\")\n",
    "elif img.dtype == np.uint8:\n",
    "    print(\"Image is 8-bit\")\n",
    "else:\n",
    "    print(\"Image is another type\")\n",
    "\n",
    "\n"
   ],
   "id": "2c91a3d204d26f43",
   "outputs": [
    {
     "name": "stdout",
     "output_type": "stream",
     "text": [
      "Max value: 16065\n",
      "Dtype: uint16\n",
      "Image is 16-bit\n"
     ]
    }
   ],
   "execution_count": 7
  }
 ],
 "metadata": {
  "kernelspec": {
   "display_name": "Python 3",
   "language": "python",
   "name": "python3"
  },
  "language_info": {
   "codemirror_mode": {
    "name": "ipython",
    "version": 2
   },
   "file_extension": ".py",
   "mimetype": "text/x-python",
   "name": "python",
   "nbconvert_exporter": "python",
   "pygments_lexer": "ipython2",
   "version": "2.7.6"
  }
 },
 "nbformat": 4,
 "nbformat_minor": 5
}
